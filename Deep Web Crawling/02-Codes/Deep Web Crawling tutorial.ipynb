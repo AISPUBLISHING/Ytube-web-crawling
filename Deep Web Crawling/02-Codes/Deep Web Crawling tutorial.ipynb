{
 "cells": [
  {
   "cell_type": "code",
   "execution_count": 4,
   "metadata": {},
   "outputs": [],
   "source": [
    "import requests\n",
    "from bs4 import BeautifulSoup"
   ]
  },
  {
   "cell_type": "code",
   "execution_count": 5,
   "metadata": {},
   "outputs": [],
   "source": [
    "url = 'https://www.fifa.com/fifa-world-ranking/ranking-table/men/'\n",
    "response = requests.get(url)\n",
    "soup = BeautifulSoup(response.text, \"html.parser\")"
   ]
  },
  {
   "cell_type": "code",
   "execution_count": 6,
   "metadata": {},
   "outputs": [],
   "source": [
    "t_names = [i.text for i in soup.find_all(\"span\", class_=\"fi-t__nText\")]\n",
    "t_rankings = [i.text for i in soup.find_all(\"td\", class_=\"fi-table__td fi-table__points\")]\n",
    "t_prev_rankings = [i.text for i in soup.find_all(\"td\", class_=\"fi-table__td fi-table__prevpoints\")] "
   ]
  },
  {
   "cell_type": "code",
   "execution_count": 8,
   "metadata": {},
   "outputs": [],
   "source": [
    "d_ranks = dict(zip(t_names, t_rankings))\n",
    "d_prev_ranks = dict(zip(t_names, t_prev_rankings))"
   ]
  },
  {
   "cell_type": "code",
   "execution_count": 10,
   "metadata": {},
   "outputs": [
    {
     "data": {
      "text/plain": [
       "'1780'"
      ]
     },
     "execution_count": 10,
     "metadata": {},
     "output_type": "execute_result"
    }
   ],
   "source": [
    "d_ranks['Belgium']\n"
   ]
  },
  {
   "cell_type": "code",
   "execution_count": 11,
   "metadata": {},
   "outputs": [
    {
     "data": {
      "text/plain": [
       "'1780'"
      ]
     },
     "execution_count": 11,
     "metadata": {},
     "output_type": "execute_result"
    }
   ],
   "source": [
    "d_prev_ranks['Belgium']"
   ]
  },
  {
   "cell_type": "code",
   "execution_count": 13,
   "metadata": {},
   "outputs": [
    {
     "data": {
      "text/plain": [
       "'/fifa-world-ranking/associations/association/BEL/men/'"
      ]
     },
     "execution_count": 13,
     "metadata": {},
     "output_type": "execute_result"
    }
   ],
   "source": [
    "soup.find(\"a\", class_=\"fi-t__link\")['href']"
   ]
  },
  {
   "cell_type": "code",
   "execution_count": 14,
   "metadata": {},
   "outputs": [
    {
     "data": {
      "text/plain": [
       "'/fifa-world-ranking/associations/association/BEL/men/'"
      ]
     },
     "execution_count": 14,
     "metadata": {},
     "output_type": "execute_result"
    }
   ],
   "source": [
    "soup.find_all(\"a\", class_=\"fi-t__link\")[0]['href']"
   ]
  },
  {
   "cell_type": "code",
   "execution_count": 19,
   "metadata": {},
   "outputs": [
    {
     "name": "stdout",
     "output_type": "stream",
     "text": [
      "28\n"
     ]
    }
   ],
   "source": [
    "url = 'https://www.fifa.com' + soup.find(\"a\", class_=\"fi-t__link\")['href']\n",
    "response = requests.get(url)\n",
    "avg_soup = BeautifulSoup(response.text, \"html.parser\")\n",
    "print(avg_soup.find_all(\"span\", class_=\"fi-ranking-bignumber--data\")[-1].text.strip())"
   ]
  },
  {
   "cell_type": "code",
   "execution_count": 20,
   "metadata": {},
   "outputs": [
    {
     "name": "stdout",
     "output_type": "stream",
     "text": [
      "Belgium 28\n",
      "France 8\n",
      "Brazil 3\n",
      "England 10\n",
      "Portugal 11\n"
     ]
    }
   ],
   "source": [
    "avg_ranks = []\n",
    "for i in range(0,5):\n",
    "    url = 'https://www.fifa.com' + soup.find_all(\"a\", class_=\"fi-t__link\")[i]['href']\n",
    "    response = requests.get(url)\n",
    "    avg_soup = BeautifulSoup(response.text, \"html.parser\")\n",
    "    print(t_names[i], avg_soup.find_all(\"span\", class_=\"fi-ranking-bignumber--data\")[-1].text.strip())\n",
    "    avg_ranks.append(avg_soup.find_all(\"span\", class_=\"fi-ranking-bignumber--data\")[-1].text.strip())"
   ]
  },
  {
   "cell_type": "code",
   "execution_count": 21,
   "metadata": {},
   "outputs": [],
   "source": [
    "import pandas as pd"
   ]
  },
  {
   "cell_type": "code",
   "execution_count": 22,
   "metadata": {},
   "outputs": [
    {
     "data": {
      "text/html": [
       "<div>\n",
       "<style scoped>\n",
       "    .dataframe tbody tr th:only-of-type {\n",
       "        vertical-align: middle;\n",
       "    }\n",
       "\n",
       "    .dataframe tbody tr th {\n",
       "        vertical-align: top;\n",
       "    }\n",
       "\n",
       "    .dataframe thead th {\n",
       "        text-align: right;\n",
       "    }\n",
       "</style>\n",
       "<table border=\"1\" class=\"dataframe\">\n",
       "  <thead>\n",
       "    <tr style=\"text-align: right;\">\n",
       "      <th></th>\n",
       "      <th>Team</th>\n",
       "      <th>Total Points</th>\n",
       "      <th>Previous Points</th>\n",
       "      <th>Avg Rank</th>\n",
       "    </tr>\n",
       "  </thead>\n",
       "  <tbody>\n",
       "    <tr>\n",
       "      <th>0</th>\n",
       "      <td>Belgium</td>\n",
       "      <td>1780</td>\n",
       "      <td>1780</td>\n",
       "      <td>28</td>\n",
       "    </tr>\n",
       "    <tr>\n",
       "      <th>1</th>\n",
       "      <td>France</td>\n",
       "      <td>1755</td>\n",
       "      <td>1755</td>\n",
       "      <td>8</td>\n",
       "    </tr>\n",
       "    <tr>\n",
       "      <th>2</th>\n",
       "      <td>Brazil</td>\n",
       "      <td>1743</td>\n",
       "      <td>1743</td>\n",
       "      <td>3</td>\n",
       "    </tr>\n",
       "    <tr>\n",
       "      <th>3</th>\n",
       "      <td>England</td>\n",
       "      <td>1670</td>\n",
       "      <td>1670</td>\n",
       "      <td>10</td>\n",
       "    </tr>\n",
       "    <tr>\n",
       "      <th>4</th>\n",
       "      <td>Portugal</td>\n",
       "      <td>1662</td>\n",
       "      <td>1662</td>\n",
       "      <td>11</td>\n",
       "    </tr>\n",
       "  </tbody>\n",
       "</table>\n",
       "</div>"
      ],
      "text/plain": [
       "       Team Total Points Previous Points Avg Rank\n",
       "0   Belgium         1780            1780       28\n",
       "1    France         1755            1755        8\n",
       "2    Brazil         1743            1743        3\n",
       "3   England         1670            1670       10\n",
       "4  Portugal         1662            1662       11"
      ]
     },
     "execution_count": 22,
     "metadata": {},
     "output_type": "execute_result"
    }
   ],
   "source": [
    "df = pd.DataFrame(columns=['Team','Total Points','Previous Points','Avg Rank'])\n",
    "for i in range(0,5):\n",
    "    df.loc[i] = [t_names[i], t_rankings[i], t_prev_rankings[i], avg_ranks[i]]\n",
    "    \n",
    "df"
   ]
  },
  {
   "cell_type": "code",
   "execution_count": 23,
   "metadata": {},
   "outputs": [],
   "source": [
    "df.to_csv('FIFA Teams info.csv')"
   ]
  }
 ],
 "metadata": {
  "kernelspec": {
   "display_name": "Python 3",
   "language": "python",
   "name": "python3"
  },
  "language_info": {
   "codemirror_mode": {
    "name": "ipython",
    "version": 3
   },
   "file_extension": ".py",
   "mimetype": "text/x-python",
   "name": "python",
   "nbconvert_exporter": "python",
   "pygments_lexer": "ipython3",
   "version": "3.8.3"
  }
 },
 "nbformat": 4,
 "nbformat_minor": 4
}
